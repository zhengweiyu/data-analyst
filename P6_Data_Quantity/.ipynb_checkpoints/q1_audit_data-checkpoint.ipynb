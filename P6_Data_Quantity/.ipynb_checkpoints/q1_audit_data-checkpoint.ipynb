{
 "cells": [
  {
   "cell_type": "markdown",
   "metadata": {},
   "source": [
    "# 练习: 审查数据质量"
   ]
  },
  {
   "cell_type": "markdown",
   "metadata": {},
   "source": [
    "在此习题集中，你将处理城市 infobox 数据，对数据进行审核，然后想出清理方法并清理数据。在第一道练习中，请审核数据集中某些特定字段中的数据类型。\n",
    "值类型可以是：\n",
    "-    NoneType，如果值是字符串“NULL”或空字符串“”\n",
    "-    列表，如果值以“{”开头\n",
    "-    整型，如果值可以转型为整型\n",
    "-    浮点型，如果值可以转型为浮点型，但是无法转型为整型。\n",
    "例如，“3.23e+07”应该被当做浮点型，因为可以转型为浮点型，但是int('3.23e+07') 将抛出 ValueError\n",
    "-    “str”，表示其他所有值\n",
    "\n",
    "audit_file 函数应该返回一个字典，其中包含字段名称和可以在该字段中找到的类型集。例如\n",
    "{\"field1\": set([type(float()), type(int()), type(str())]),\n",
    " \"field2\": set([type(str())]),\n",
    "  ....\n",
    "}\n",
    "type() 函数返回的是类型对象，描述了提供给该函数的参数。你还可以使用对象示例创建类型对象，例如 type(1.1) 表示浮点型：具体示例请参阅下面的测试函数。\n",
    "\n",
    "注意，cities.csv 文件的前三行（标题行之后）不是实际的数据点。在处理数据类型时，不应该包含这些行的内容。确保在代码中包含相关功能，以便跳过或检测出这些行。"
   ]
  },
  {
   "cell_type": "code",
   "execution_count": 4,
   "metadata": {
    "collapsed": false
   },
   "outputs": [
    {
     "data": {
      "text/plain": [
       "'\\nIn this problem set you work with cities infobox data, audit it, come up with a\\ncleaning idea and then clean it up. In the first exercise we want you to audit\\nthe datatypes that can be found in some particular fields in the dataset.\\nThe possible types of values can be:\\n- NoneType if the value is a string \"NULL\" or an empty string \"\"\\n- list, if the value starts with \"{\"\\n- int, if the value can be cast to int\\n- float, if the value can be cast to float, but CANNOT be cast to int.\\n   For example, \\'3.23e+07\\' should be considered a float because it can be cast\\n   as float but int(\\'3.23e+07\\') will throw a ValueError\\n- \\'str\\', for all other values\\n\\nThe audit_file function should return a dictionary containing fieldnames and a \\nSET of the types that can be found in the field. e.g.\\n{\"field1\": set([type(float()), type(int()), type(str())]),\\n \"field2\": set([type(str())]),\\n  ....\\n}\\nThe type() function returns a type object describing the argument given to the \\nfunction. You can also use examples of objects to create type objects, e.g.\\ntype(1.1) for a float: see the test function below for examples.\\n\\nNote that the first three rows (after the header row) in the cities.csv file\\nare not actual data points. The contents of these rows should note be included\\nwhen processing data types. Be sure to include functionality in your code to\\nskip over or detect these rows.\\n'"
      ]
     },
     "execution_count": 4,
     "metadata": {},
     "output_type": "execute_result"
    }
   ],
   "source": [
    "#!/usr/bin/env python\n",
    "# -*- coding: utf-8 -*-\n",
    "\"\"\"\n",
    "In this problem set you work with cities infobox data, audit it, come up with a\n",
    "cleaning idea and then clean it up. In the first exercise we want you to audit\n",
    "the datatypes that can be found in some particular fields in the dataset.\n",
    "The possible types of values can be:\n",
    "- NoneType if the value is a string \"NULL\" or an empty string \"\"\n",
    "- list, if the value starts with \"{\"\n",
    "- int, if the value can be cast to int\n",
    "- float, if the value can be cast to float, but CANNOT be cast to int.\n",
    "   For example, '3.23e+07' should be considered a float because it can be cast\n",
    "   as float but int('3.23e+07') will throw a ValueError\n",
    "- 'str', for all other values\n",
    "\n",
    "The audit_file function should return a dictionary containing fieldnames and a \n",
    "SET of the types that can be found in the field. e.g.\n",
    "{\"field1\": set([type(float()), type(int()), type(str())]),\n",
    " \"field2\": set([type(str())]),\n",
    "  ....\n",
    "}\n",
    "The type() function returns a type object describing the argument given to the \n",
    "function. You can also use examples of objects to create type objects, e.g.\n",
    "type(1.1) for a float: see the test function below for examples.\n",
    "\n",
    "Note that the first three rows (after the header row) in the cities.csv file\n",
    "are not actual data points. The contents of these rows should note be included\n",
    "when processing data types. Be sure to include functionality in your code to\n",
    "skip over or detect these rows.\n",
    "\"\"\"\n"
   ]
  },
  {
   "cell_type": "code",
   "execution_count": 28,
   "metadata": {
    "collapsed": false
   },
   "outputs": [
    {
     "name": "stdout",
     "output_type": "stream",
     "text": [
      "{'code': 'NULL', 'populationRural': 'NULL', 'state_label': 'NULL', 'twinCity_label': 'NULL', 'mayor_label': 'NULL', 'mayor': 'NULL', 'governingBody_label': 'NULL', 'areaLand': 'NULL', 'rdf-schema#label': 'Kuju Hazaribag', 'foundingPerson_label': 'NULL', 'division_label': 'NULL', 'location': 'NULL', 'foundingYear': 'NULL', 'homepage': 'NULL', 'division': 'NULL', 'elevation': '426.0', 'government': 'NULL', 'URI': 'http://dbpedia.org/resource/Kuju,_Hazaribag', 'isPartOf_label': '{Jharkhand|Ramgarh district}', 'areaWater': 'NULL', 'type_label': 'NULL', 'part_label': 'NULL', 'leader': 'NULL', 'city_label': 'NULL', 'minimumElevation': 'NULL', 'foundingDate': 'NULL', 'twinCountry_label': 'NULL', 'municipality_label': 'NULL', 'wgs84_pos#long': '85.5', 'anthem': 'NULL', 'populationUrbanDensity': 'NULL', 'state': 'NULL', 'district_label': 'NULL', 'administrativeDistrict_label': 'NULL', 'isPartOf': '{http://dbpedia.org/resource/Jharkhand|http://dbpedia.org/resource/Ramgarh_district}', 'governingBody': 'NULL', 'thumbnail': 'NULL', 'populationMetro': 'NULL', 'daylightSavingTimeZone_label': 'NULL', 'leaderParty': 'NULL', 'leaderName_label': 'NULL', 'daylightSavingTimeZone': 'NULL', 'populationAsOf': 'NULL', 'anthem_label': 'NULL', 'motto': 'NULL', 'governmentType_label': 'NULL', 'populationTotalRanking': 'NULL', 'populationMetroDensity': 'NULL', 'country': 'http://dbpedia.org/resource/India', 'region': 'NULL', 'region_label': 'NULL', 'federalState': 'NULL', 'timeZone': 'http://dbpedia.org/resource/Indian_Standard_Time', 'leader_label': 'NULL', 'leaderName': 'NULL', 'point': '23.72 85.5', 'municipality': 'NULL', 'thumbnail_label': 'NULL', 'city': 'NULL', 'district': 'NULL', 'area': 'NULL', 'areaCode': 'NULL', 'name': 'Kuju', 'populationTotal': '18049', 'areaRural': 'NULL', 'areaUrban': 'NULL', 'type': 'NULL', 'location_label': 'NULL', '22-rdf-syntax-ns#type': '{http://dbpedia.org/ontology/City|http://dbpedia.org/ontology/Place|http://dbpedia.org/ontology/PopulatedPlace|http://dbpedia.org/ontology/Settlement|http://schema.org/City|http://schema.org/Place|http://www.opengis.net/gml/_Feature|http://www.w3.org/2002/07/owl#Thing}', 'part': 'NULL', 'areaMetro': 'NULL', 'depiction_label': 'NULL', 'government_label': 'NULL', 'isoCodeRegion': 'NULL', 'leaderTitle': 'NULL', 'federalState_label': 'NULL', 'isoCodeRegion_label': 'NULL', 'country_label': 'India', 'administrativeDistrict': 'NULL', 'homepage_label': 'NULL', '22-rdf-syntax-ns#type_label': '{city|place|populated place|municipality|City|Place|_Feature|owl#Thing}', 'depiction': 'NULL', 'timeZone_label': 'Indian Standard Time', 'areaTotal': 'NULL', 'governmentType': 'NULL', 'maximumElevation': 'NULL', 'rdf-schema#comment': 'Kuju is a census town in Ramgarh district in the Indian state of Jharkhand.', 'nick': 'NULL', 'postalCode': 'NULL', 'wgs84_pos#lat': '23.72', 'populationDensity': 'NULL', 'twinCountry': 'NULL', 'percentageOfAreaWater': 'NULL', 'leaderParty_label': 'NULL', 'synonym': 'NULL', 'twinCity': 'NULL', 'utcOffset': '+5:30', 'foundingPerson': 'NULL', 'populationUrban': 'NULL'}\n",
      "name\n"
     ]
    },
    {
     "name": "stderr",
     "output_type": "stream",
     "text": [
      "/opt/ds/lib/python2.7/site-packages/ipykernel/__main__.py:73: DeprecationWarning: catching of string exceptions is deprecated\n"
     ]
    },
    {
     "ename": "ValueError",
     "evalue": "could not convert string to float: name",
     "output_type": "error",
     "traceback": [
      "\u001b[1;31m---------------------------------------------------------------------------\u001b[0m",
      "\u001b[1;31mValueError\u001b[0m                                Traceback (most recent call last)",
      "\u001b[1;32m<ipython-input-28-6faf799dfe9b>\u001b[0m in \u001b[0;36m<module>\u001b[1;34m()\u001b[0m\n\u001b[0;32m     84\u001b[0m \u001b[1;33m\u001b[0m\u001b[0m\n\u001b[0;32m     85\u001b[0m \u001b[1;32mif\u001b[0m \u001b[0m__name__\u001b[0m \u001b[1;33m==\u001b[0m \u001b[1;34m\"__main__\"\u001b[0m\u001b[1;33m:\u001b[0m\u001b[1;33m\u001b[0m\u001b[0m\n\u001b[1;32m---> 86\u001b[1;33m     \u001b[0mtest\u001b[0m\u001b[1;33m(\u001b[0m\u001b[1;33m)\u001b[0m\u001b[1;33m\u001b[0m\u001b[0m\n\u001b[0m",
      "\u001b[1;32m<ipython-input-28-6faf799dfe9b>\u001b[0m in \u001b[0;36mtest\u001b[1;34m()\u001b[0m\n\u001b[0;32m     76\u001b[0m \u001b[1;33m\u001b[0m\u001b[0m\n\u001b[0;32m     77\u001b[0m \u001b[1;32mdef\u001b[0m \u001b[0mtest\u001b[0m\u001b[1;33m(\u001b[0m\u001b[1;33m)\u001b[0m\u001b[1;33m:\u001b[0m\u001b[1;33m\u001b[0m\u001b[0m\n\u001b[1;32m---> 78\u001b[1;33m     \u001b[0mfieldtypes\u001b[0m \u001b[1;33m=\u001b[0m \u001b[0maudit_file\u001b[0m\u001b[1;33m(\u001b[0m\u001b[0mCITIES\u001b[0m\u001b[1;33m,\u001b[0m \u001b[0mFIELDS\u001b[0m\u001b[1;33m)\u001b[0m\u001b[1;33m\u001b[0m\u001b[0m\n\u001b[0m\u001b[0;32m     79\u001b[0m \u001b[1;33m\u001b[0m\u001b[0m\n\u001b[0;32m     80\u001b[0m     \u001b[0mpprint\u001b[0m\u001b[1;33m.\u001b[0m\u001b[0mpprint\u001b[0m\u001b[1;33m(\u001b[0m\u001b[0mfieldtypes\u001b[0m\u001b[1;33m)\u001b[0m\u001b[1;33m\u001b[0m\u001b[0m\n",
      "\u001b[1;32m<ipython-input-28-6faf799dfe9b>\u001b[0m in \u001b[0;36maudit_file\u001b[1;34m(filename, fields)\u001b[0m\n\u001b[0;32m     26\u001b[0m                     \u001b[1;32melif\u001b[0m \u001b[0mis_list\u001b[0m\u001b[1;33m(\u001b[0m\u001b[0mname\u001b[0m\u001b[1;33m)\u001b[0m\u001b[1;33m:\u001b[0m\u001b[1;33m\u001b[0m\u001b[0m\n\u001b[0;32m     27\u001b[0m                         \u001b[0mfieldtypes\u001b[0m\u001b[1;33m[\u001b[0m\u001b[0mname\u001b[0m\u001b[1;33m]\u001b[0m\u001b[1;33m.\u001b[0m\u001b[0mappend\u001b[0m\u001b[1;33m(\u001b[0m\u001b[0mtype\u001b[0m\u001b[1;33m(\u001b[0m\u001b[0mlist\u001b[0m\u001b[1;33m(\u001b[0m\u001b[1;33m)\u001b[0m\u001b[1;33m)\u001b[0m\u001b[1;33m)\u001b[0m\u001b[1;33m\u001b[0m\u001b[0m\n\u001b[1;32m---> 28\u001b[1;33m                     \u001b[1;32melif\u001b[0m \u001b[0mis_float\u001b[0m\u001b[1;33m(\u001b[0m\u001b[0mname\u001b[0m\u001b[1;33m)\u001b[0m\u001b[1;33m:\u001b[0m\u001b[1;33m\u001b[0m\u001b[0m\n\u001b[0m\u001b[0;32m     29\u001b[0m                         \u001b[0mfieldtypes\u001b[0m\u001b[1;33m[\u001b[0m\u001b[0mname\u001b[0m\u001b[1;33m]\u001b[0m\u001b[1;33m.\u001b[0m\u001b[0mappend\u001b[0m\u001b[1;33m(\u001b[0m\u001b[0mtype\u001b[0m\u001b[1;33m(\u001b[0m\u001b[0mfloat\u001b[0m\u001b[1;33m(\u001b[0m\u001b[1;33m)\u001b[0m\u001b[1;33m)\u001b[0m\u001b[1;33m)\u001b[0m\u001b[1;33m\u001b[0m\u001b[0m\n\u001b[0;32m     30\u001b[0m                     \u001b[1;32melif\u001b[0m \u001b[0mis_int\u001b[0m\u001b[1;33m(\u001b[0m\u001b[0mname\u001b[0m\u001b[1;33m)\u001b[0m\u001b[1;33m:\u001b[0m\u001b[1;33m\u001b[0m\u001b[0m\n",
      "\u001b[1;32m<ipython-input-28-6faf799dfe9b>\u001b[0m in \u001b[0;36mis_float\u001b[1;34m(v)\u001b[0m\n\u001b[0;32m     69\u001b[0m \u001b[1;32mdef\u001b[0m \u001b[0mis_float\u001b[0m\u001b[1;33m(\u001b[0m\u001b[0mv\u001b[0m\u001b[1;33m)\u001b[0m\u001b[1;33m:\u001b[0m\u001b[1;33m\u001b[0m\u001b[0m\n\u001b[0;32m     70\u001b[0m     \u001b[1;32mtry\u001b[0m\u001b[1;33m:\u001b[0m\u001b[1;33m\u001b[0m\u001b[0m\n\u001b[1;32m---> 71\u001b[1;33m         \u001b[0mfloat\u001b[0m\u001b[1;33m(\u001b[0m\u001b[0mv\u001b[0m\u001b[1;33m)\u001b[0m\u001b[1;33m\u001b[0m\u001b[0m\n\u001b[0m\u001b[0;32m     72\u001b[0m         \u001b[1;32mreturn\u001b[0m \u001b[0mTrue\u001b[0m\u001b[1;33m\u001b[0m\u001b[0m\n\u001b[0;32m     73\u001b[0m     \u001b[1;32mexcept\u001b[0m \u001b[1;34m\"ValueError\"\u001b[0m\u001b[1;33m:\u001b[0m\u001b[1;33m\u001b[0m\u001b[0m\n",
      "\u001b[1;31mValueError\u001b[0m: could not convert string to float: name"
     ]
    }
   ],
   "source": [
    "import codecs\n",
    "import csv\n",
    "import json\n",
    "import pprint\n",
    "\n",
    "CITIES = 'cities.csv'\n",
    "\n",
    "FIELDS = [\"name\", \"timeZone_label\", \"utcOffset\", \"homepage\", \"governmentType_label\",\n",
    "          \"isPartOf_label\", \"areaCode\", \"populationTotal\", \"elevation\",\n",
    "          \"maximumElevation\", \"minimumElevation\", \"populationDensity\",\n",
    "          \"wgs84_pos#lat\", \"wgs84_pos#long\", \"areaLand\", \"areaMetro\", \"areaUrban\"]\n",
    "\n",
    "def audit_file(filename, fields):\n",
    "    fieldtypes = {}\n",
    "    \n",
    "    with open(filename) as f:\n",
    "        f_csv = csv.DictReader(f)\n",
    "        i = 0\n",
    "        for row in f_csv:\n",
    "            if i > 3 and i <=100:\n",
    "                print(row)\n",
    "                for name in fields:\n",
    "                    print(name)\n",
    "                    if is_nonetype(name):\n",
    "                        fieldtypes[name].append(type(None))\n",
    "                    elif is_list(name):\n",
    "                        fieldtypes[name].append(type(list()))\n",
    "                    elif is_float(name):\n",
    "                        fieldtypes[name].append(type(float()))       \n",
    "                    elif is_int(name):\n",
    "                        fieldtypes[name].append(type(int()))  \n",
    "                    else:\n",
    "                        fieldtypes[name].append(type(str()))\n",
    "            else:\n",
    "                pass\n",
    "            \n",
    "            i += 1\n",
    "                \n",
    "    return fieldtypes\n",
    "\n",
    "\n",
    "def is_nonetype(v):\n",
    "    if v == 'NULL' or v == '':\n",
    "        return True\n",
    "    else:\n",
    "        return False\n",
    "    \n",
    "def is_list(v):\n",
    "    if v[0] == \"{\":\n",
    "        return True\n",
    "    else:\n",
    "        return False\n",
    "    \n",
    "def is_str(v):\n",
    "    try:\n",
    "        str(v)\n",
    "        return True\n",
    "    except \"ValueError\":\n",
    "        return False\n",
    "    \n",
    "def is_int(v):\n",
    "    try:\n",
    "        int(v)\n",
    "        return True\n",
    "    except \"ValueError\":\n",
    "        return False\n",
    "                                                \n",
    "                                            \n",
    "def is_float(v):\n",
    "    try:\n",
    "        float(v)\n",
    "        return True\n",
    "    except \"ValueError\":\n",
    "        return False                                     \n",
    "                                                \n",
    "\n",
    "def test():\n",
    "    fieldtypes = audit_file(CITIES, FIELDS)\n",
    "\n",
    "    pprint.pprint(fieldtypes)\n",
    "\n",
    "    assert fieldtypes[\"areaLand\"] == set([type(1.1), type([]), type(None)])\n",
    "    assert fieldtypes['areaMetro'] == set([type(1.1), type(None)])\n",
    "    \n",
    "if __name__ == \"__main__\":\n",
    "    test()"
   ]
  }
 ],
 "metadata": {
  "kernelspec": {
   "display_name": "Python 2",
   "language": "python",
   "name": "python2"
  },
  "language_info": {
   "codemirror_mode": {
    "name": "ipython",
    "version": 2
   },
   "file_extension": ".py",
   "mimetype": "text/x-python",
   "name": "python",
   "nbconvert_exporter": "python",
   "pygments_lexer": "ipython2",
   "version": "2.7.6"
  }
 },
 "nbformat": 4,
 "nbformat_minor": 0
}
