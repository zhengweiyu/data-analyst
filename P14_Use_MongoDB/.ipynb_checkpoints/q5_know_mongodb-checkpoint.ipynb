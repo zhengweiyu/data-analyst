{
 "cells": [
  {
   "cell_type": "code",
   "execution_count": null,
   "metadata": {
    "collapsed": true
   },
   "outputs": [],
   "source": [
    "\"\"\"\n",
    "Your task is to sucessfully run the exercise to see how pymongo works\n",
    "and how easy it is to start using it.\n",
    "You don't actually have to change anything in this exercise,\n",
    "but you can change the city name in the add_city function if you like.\n",
    "\n",
    "Your code will be run against a MongoDB instance that we have provided.\n",
    "If you want to run this code locally on your machine,\n",
    "you have to install MongoDB (see Instructor comments for link to installation information)\n",
    "and uncomment the get_db function.\n",
    "\"\"\"\n",
    "\n",
    "def add_city(db):\n",
    "    # Changes to this function will be reflected in the output. \n",
    "    # All other functions are for local use only.\n",
    "    # Try changing the name of the city to be inserted\n",
    "    db.cities.insert({\"name\" : \"Chicago\"})\n",
    "    \n",
    "def get_city(db):\n",
    "    return db.cities.find_one()\n",
    "\n",
    "def get_db():\n",
    "    # For local use\n",
    "    from pymongo import MongoClient\n",
    "    client = MongoClient('localhost:27017')\n",
    "    # 'examples' here is the database name. It will be created if it does not exist.\n",
    "    db = client.examples\n",
    "    return db\n",
    "\n",
    "if __name__ == \"__main__\":\n",
    "    # For local use\n",
    "    # db = get_db() # uncomment this line if you want to run this locally\n",
    "    add_city(db)\n",
    "    print get_city(db)"
   ]
  }
 ],
 "metadata": {
  "kernelspec": {
   "display_name": "Python 2",
   "language": "python",
   "name": "python2"
  },
  "language_info": {
   "codemirror_mode": {
    "name": "ipython",
    "version": 2
   },
   "file_extension": ".py",
   "mimetype": "text/x-python",
   "name": "python",
   "nbconvert_exporter": "python",
   "pygments_lexer": "ipython2",
   "version": "2.7.6"
  }
 },
 "nbformat": 4,
 "nbformat_minor": 0
}
